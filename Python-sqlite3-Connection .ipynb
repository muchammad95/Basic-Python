{
 "cells": [
  {
   "cell_type": "code",
   "execution_count": 1,
   "metadata": {},
   "outputs": [],
   "source": [
    "import sqlite3 as sq\n",
    "import pandas as pd\n",
    "import matplotlib.pyplot as plt\n",
    "%matplotlib inline"
   ]
  },
  {
   "cell_type": "code",
   "execution_count": 2,
   "metadata": {},
   "outputs": [],
   "source": [
    "connection = sq.connect('chinook.db')\n",
    "cursor = connection.cursor()\n",
    "\n",
    "#coding sql here, contoh :\n",
    "#crude_query = \"(query languange, SELECT, JOIN, dll)\"\n",
    "#input_list = (data)\n",
    "#cursor.execute(crude_query,input_list)\n",
    "\n",
    "crude_query = ''' SELECT customers.FirstName, customers.LastName,\n",
    "                invoices.InvoiceDate, invoices.BillingCity,invoices.BillingCountry,invoices.Total\n",
    "                FROM customers\n",
    "                INNER JOIN invoices\n",
    "                on customers.CustomerId = invoices.CustomerId\n",
    "             '''\n",
    "cursor.execute(crude_query)\n",
    "penjualan =  cursor.fetchall()\n",
    "\n",
    "#connection.commit() #commit dipake buat perubahan data pada tabel (buat masukin data python ke database)\n",
    "cursor.close()\n",
    "connection.close()"
   ]
  },
  {
   "cell_type": "code",
   "execution_count": 3,
   "metadata": {
    "scrolled": false
   },
   "outputs": [],
   "source": [
    "data = pd.DataFrame(penjualan,columns = ['nama depan',\n",
    "                                          'nama belakang',\n",
    "                                          'tanggal invoice',\n",
    "                                          'kota pengiriman',\n",
    "                                          'negara pengiriman',\n",
    "                                          'pembelian'])"
   ]
  },
  {
   "cell_type": "code",
   "execution_count": 4,
   "metadata": {},
   "outputs": [],
   "source": [
    "#nambah kolom nama lengkap\n",
    "data['nama lengkap'] = data['nama depan'] + ' ' + data['nama belakang']"
   ]
  },
  {
   "cell_type": "code",
   "execution_count": 5,
   "metadata": {},
   "outputs": [
    {
     "name": "stdout",
     "output_type": "stream",
     "text": [
      "<class 'pandas.core.frame.DataFrame'>\n",
      "RangeIndex: 412 entries, 0 to 411\n",
      "Data columns (total 7 columns):\n",
      " #   Column             Non-Null Count  Dtype  \n",
      "---  ------             --------------  -----  \n",
      " 0   nama depan         412 non-null    object \n",
      " 1   nama belakang      412 non-null    object \n",
      " 2   tanggal invoice    412 non-null    object \n",
      " 3   kota pengiriman    412 non-null    object \n",
      " 4   negara pengiriman  412 non-null    object \n",
      " 5   pembelian          412 non-null    float64\n",
      " 6   nama lengkap       412 non-null    object \n",
      "dtypes: float64(1), object(6)\n",
      "memory usage: 22.7+ KB\n"
     ]
    }
   ],
   "source": [
    "data.info()"
   ]
  },
  {
   "cell_type": "code",
   "execution_count": 6,
   "metadata": {},
   "outputs": [
    {
     "data": {
      "text/html": [
       "<div>\n",
       "<style scoped>\n",
       "    .dataframe tbody tr th:only-of-type {\n",
       "        vertical-align: middle;\n",
       "    }\n",
       "\n",
       "    .dataframe tbody tr th {\n",
       "        vertical-align: top;\n",
       "    }\n",
       "\n",
       "    .dataframe thead th {\n",
       "        text-align: right;\n",
       "    }\n",
       "</style>\n",
       "<table border=\"1\" class=\"dataframe\">\n",
       "  <thead>\n",
       "    <tr style=\"text-align: right;\">\n",
       "      <th></th>\n",
       "      <th>nama depan</th>\n",
       "      <th>nama belakang</th>\n",
       "      <th>tanggal invoice</th>\n",
       "      <th>kota pengiriman</th>\n",
       "      <th>negara pengiriman</th>\n",
       "      <th>pembelian</th>\n",
       "      <th>nama lengkap</th>\n",
       "      <th>tahun</th>\n",
       "      <th>bulan</th>\n",
       "    </tr>\n",
       "  </thead>\n",
       "  <tbody>\n",
       "    <tr>\n",
       "      <th>0</th>\n",
       "      <td>Luís</td>\n",
       "      <td>Gonçalves</td>\n",
       "      <td>2010-03-11</td>\n",
       "      <td>São José dos Campos</td>\n",
       "      <td>Brazil</td>\n",
       "      <td>3.98</td>\n",
       "      <td>Luís Gonçalves</td>\n",
       "      <td>2010</td>\n",
       "      <td>3</td>\n",
       "    </tr>\n",
       "    <tr>\n",
       "      <th>1</th>\n",
       "      <td>Luís</td>\n",
       "      <td>Gonçalves</td>\n",
       "      <td>2010-06-13</td>\n",
       "      <td>São José dos Campos</td>\n",
       "      <td>Brazil</td>\n",
       "      <td>3.96</td>\n",
       "      <td>Luís Gonçalves</td>\n",
       "      <td>2010</td>\n",
       "      <td>6</td>\n",
       "    </tr>\n",
       "    <tr>\n",
       "      <th>2</th>\n",
       "      <td>Luís</td>\n",
       "      <td>Gonçalves</td>\n",
       "      <td>2010-09-15</td>\n",
       "      <td>São José dos Campos</td>\n",
       "      <td>Brazil</td>\n",
       "      <td>5.94</td>\n",
       "      <td>Luís Gonçalves</td>\n",
       "      <td>2010</td>\n",
       "      <td>9</td>\n",
       "    </tr>\n",
       "    <tr>\n",
       "      <th>3</th>\n",
       "      <td>Luís</td>\n",
       "      <td>Gonçalves</td>\n",
       "      <td>2011-05-06</td>\n",
       "      <td>São José dos Campos</td>\n",
       "      <td>Brazil</td>\n",
       "      <td>0.99</td>\n",
       "      <td>Luís Gonçalves</td>\n",
       "      <td>2011</td>\n",
       "      <td>5</td>\n",
       "    </tr>\n",
       "    <tr>\n",
       "      <th>4</th>\n",
       "      <td>Luís</td>\n",
       "      <td>Gonçalves</td>\n",
       "      <td>2012-10-27</td>\n",
       "      <td>São José dos Campos</td>\n",
       "      <td>Brazil</td>\n",
       "      <td>1.98</td>\n",
       "      <td>Luís Gonçalves</td>\n",
       "      <td>2012</td>\n",
       "      <td>10</td>\n",
       "    </tr>\n",
       "  </tbody>\n",
       "</table>\n",
       "</div>"
      ],
      "text/plain": [
       "  nama depan nama belakang tanggal invoice      kota pengiriman  \\\n",
       "0       Luís     Gonçalves      2010-03-11  São José dos Campos   \n",
       "1       Luís     Gonçalves      2010-06-13  São José dos Campos   \n",
       "2       Luís     Gonçalves      2010-09-15  São José dos Campos   \n",
       "3       Luís     Gonçalves      2011-05-06  São José dos Campos   \n",
       "4       Luís     Gonçalves      2012-10-27  São José dos Campos   \n",
       "\n",
       "  negara pengiriman  pembelian    nama lengkap  tahun  bulan  \n",
       "0            Brazil       3.98  Luís Gonçalves   2010      3  \n",
       "1            Brazil       3.96  Luís Gonçalves   2010      6  \n",
       "2            Brazil       5.94  Luís Gonçalves   2010      9  \n",
       "3            Brazil       0.99  Luís Gonçalves   2011      5  \n",
       "4            Brazil       1.98  Luís Gonçalves   2012     10  "
      ]
     },
     "execution_count": 6,
     "metadata": {},
     "output_type": "execute_result"
    }
   ],
   "source": [
    "#ganti tipe data tanggal invoice ke date\n",
    "data['tanggal invoice'] = pd.to_datetime(data['tanggal invoice'])\n",
    "data['tahun'] = data['tanggal invoice'].apply(lambda time : time.year)\n",
    "data['bulan'] = data['tanggal invoice'].apply(lambda time : time.month)\n",
    "data.head()"
   ]
  },
  {
   "cell_type": "code",
   "execution_count": 7,
   "metadata": {},
   "outputs": [],
   "source": [
    "data = data.loc[(data['tahun']<2010) & \n",
    "                (1 < data['bulan']) &\n",
    "                (data['bulan'] < 7),\n",
    "               ]"
   ]
  },
  {
   "cell_type": "code",
   "execution_count": 8,
   "metadata": {},
   "outputs": [
    {
     "data": {
      "text/html": [
       "<div>\n",
       "<style scoped>\n",
       "    .dataframe tbody tr th:only-of-type {\n",
       "        vertical-align: middle;\n",
       "    }\n",
       "\n",
       "    .dataframe tbody tr th {\n",
       "        vertical-align: top;\n",
       "    }\n",
       "\n",
       "    .dataframe thead th {\n",
       "        text-align: right;\n",
       "    }\n",
       "</style>\n",
       "<table border=\"1\" class=\"dataframe\">\n",
       "  <thead>\n",
       "    <tr style=\"text-align: right;\">\n",
       "      <th></th>\n",
       "      <th>nama depan</th>\n",
       "      <th>nama belakang</th>\n",
       "      <th>tanggal invoice</th>\n",
       "      <th>kota pengiriman</th>\n",
       "      <th>negara pengiriman</th>\n",
       "      <th>pembelian</th>\n",
       "      <th>nama lengkap</th>\n",
       "      <th>tahun</th>\n",
       "      <th>bulan</th>\n",
       "    </tr>\n",
       "  </thead>\n",
       "  <tbody>\n",
       "    <tr>\n",
       "      <th>8</th>\n",
       "      <td>Leonie</td>\n",
       "      <td>Köhler</td>\n",
       "      <td>2009-02-11</td>\n",
       "      <td>Stuttgart</td>\n",
       "      <td>Germany</td>\n",
       "      <td>13.86</td>\n",
       "      <td>Leonie Köhler</td>\n",
       "      <td>2009</td>\n",
       "      <td>2</td>\n",
       "    </tr>\n",
       "    <tr>\n",
       "      <th>22</th>\n",
       "      <td>Bjørn</td>\n",
       "      <td>Hansen</td>\n",
       "      <td>2009-04-06</td>\n",
       "      <td>Oslo</td>\n",
       "      <td>Norway</td>\n",
       "      <td>5.94</td>\n",
       "      <td>Bjørn Hansen</td>\n",
       "      <td>2009</td>\n",
       "      <td>4</td>\n",
       "    </tr>\n",
       "    <tr>\n",
       "      <th>63</th>\n",
       "      <td>Eduardo</td>\n",
       "      <td>Martins</td>\n",
       "      <td>2009-04-09</td>\n",
       "      <td>São Paulo</td>\n",
       "      <td>Brazil</td>\n",
       "      <td>8.91</td>\n",
       "      <td>Eduardo Martins</td>\n",
       "      <td>2009</td>\n",
       "      <td>4</td>\n",
       "    </tr>\n",
       "    <tr>\n",
       "      <th>77</th>\n",
       "      <td>Roberto</td>\n",
       "      <td>Almeida</td>\n",
       "      <td>2009-05-23</td>\n",
       "      <td>Rio de Janeiro</td>\n",
       "      <td>Brazil</td>\n",
       "      <td>0.99</td>\n",
       "      <td>Roberto Almeida</td>\n",
       "      <td>2009</td>\n",
       "      <td>5</td>\n",
       "    </tr>\n",
       "    <tr>\n",
       "      <th>84</th>\n",
       "      <td>Fernanda</td>\n",
       "      <td>Ramos</td>\n",
       "      <td>2009-06-05</td>\n",
       "      <td>Brasília</td>\n",
       "      <td>Brazil</td>\n",
       "      <td>1.98</td>\n",
       "      <td>Fernanda Ramos</td>\n",
       "      <td>2009</td>\n",
       "      <td>6</td>\n",
       "    </tr>\n",
       "  </tbody>\n",
       "</table>\n",
       "</div>"
      ],
      "text/plain": [
       "   nama depan nama belakang tanggal invoice kota pengiriman negara pengiriman  \\\n",
       "8      Leonie        Köhler      2009-02-11       Stuttgart           Germany   \n",
       "22      Bjørn        Hansen      2009-04-06            Oslo            Norway   \n",
       "63    Eduardo       Martins      2009-04-09       São Paulo            Brazil   \n",
       "77    Roberto       Almeida      2009-05-23  Rio de Janeiro            Brazil   \n",
       "84   Fernanda         Ramos      2009-06-05        Brasília            Brazil   \n",
       "\n",
       "    pembelian     nama lengkap  tahun  bulan  \n",
       "8       13.86    Leonie Köhler   2009      2  \n",
       "22       5.94     Bjørn Hansen   2009      4  \n",
       "63       8.91  Eduardo Martins   2009      4  \n",
       "77       0.99  Roberto Almeida   2009      5  \n",
       "84       1.98   Fernanda Ramos   2009      6  "
      ]
     },
     "execution_count": 8,
     "metadata": {},
     "output_type": "execute_result"
    }
   ],
   "source": [
    "data.head()"
   ]
  },
  {
   "cell_type": "code",
   "execution_count": 9,
   "metadata": {},
   "outputs": [],
   "source": [
    "#ganti nama bulan\n",
    "bulan = {2 : 'Februari', 3 : 'March', 4 : 'April', 5 : 'May', 6 : 'Juni'}\n",
    "data['bulan'] = data['bulan'].map(bulan)"
   ]
  },
  {
   "cell_type": "code",
   "execution_count": 10,
   "metadata": {},
   "outputs": [
    {
     "name": "stdout",
     "output_type": "stream",
     "text": [
      "<class 'pandas.core.frame.DataFrame'>\n",
      "Int64Index: 35 entries, 8 to 406\n",
      "Data columns (total 9 columns):\n",
      " #   Column             Non-Null Count  Dtype         \n",
      "---  ------             --------------  -----         \n",
      " 0   nama depan         35 non-null     object        \n",
      " 1   nama belakang      35 non-null     object        \n",
      " 2   tanggal invoice    35 non-null     datetime64[ns]\n",
      " 3   kota pengiriman    35 non-null     object        \n",
      " 4   negara pengiriman  35 non-null     object        \n",
      " 5   pembelian          35 non-null     float64       \n",
      " 6   nama lengkap       35 non-null     object        \n",
      " 7   tahun              35 non-null     int64         \n",
      " 8   bulan              35 non-null     object        \n",
      "dtypes: datetime64[ns](1), float64(1), int64(1), object(6)\n",
      "memory usage: 2.7+ KB\n"
     ]
    }
   ],
   "source": [
    "data.info()"
   ]
  },
  {
   "cell_type": "code",
   "execution_count": 11,
   "metadata": {},
   "outputs": [],
   "source": [
    "cus_agg = data.groupby(by='nama lengkap',).agg('sum').reset_index()"
   ]
  },
  {
   "cell_type": "code",
   "execution_count": 12,
   "metadata": {
    "scrolled": true
   },
   "outputs": [
    {
     "data": {
      "text/html": [
       "<div>\n",
       "<style scoped>\n",
       "    .dataframe tbody tr th:only-of-type {\n",
       "        vertical-align: middle;\n",
       "    }\n",
       "\n",
       "    .dataframe tbody tr th {\n",
       "        vertical-align: top;\n",
       "    }\n",
       "\n",
       "    .dataframe thead th {\n",
       "        text-align: right;\n",
       "    }\n",
       "</style>\n",
       "<table border=\"1\" class=\"dataframe\">\n",
       "  <thead>\n",
       "    <tr style=\"text-align: right;\">\n",
       "      <th></th>\n",
       "      <th>nama lengkap</th>\n",
       "      <th>pembelian</th>\n",
       "      <th>tahun</th>\n",
       "    </tr>\n",
       "  </thead>\n",
       "  <tbody>\n",
       "    <tr>\n",
       "      <th>0</th>\n",
       "      <td>Bjørn Hansen</td>\n",
       "      <td>5.94</td>\n",
       "      <td>2009</td>\n",
       "    </tr>\n",
       "    <tr>\n",
       "      <th>1</th>\n",
       "      <td>Dominique Lefebvre</td>\n",
       "      <td>15.84</td>\n",
       "      <td>4018</td>\n",
       "    </tr>\n",
       "    <tr>\n",
       "      <th>2</th>\n",
       "      <td>Eduardo Martins</td>\n",
       "      <td>8.91</td>\n",
       "      <td>2009</td>\n",
       "    </tr>\n",
       "    <tr>\n",
       "      <th>3</th>\n",
       "      <td>Ellie Sullivan</td>\n",
       "      <td>0.99</td>\n",
       "      <td>2009</td>\n",
       "    </tr>\n",
       "    <tr>\n",
       "      <th>4</th>\n",
       "      <td>Emma Jones</td>\n",
       "      <td>8.91</td>\n",
       "      <td>2009</td>\n",
       "    </tr>\n",
       "  </tbody>\n",
       "</table>\n",
       "</div>"
      ],
      "text/plain": [
       "         nama lengkap  pembelian  tahun\n",
       "0        Bjørn Hansen       5.94   2009\n",
       "1  Dominique Lefebvre      15.84   4018\n",
       "2     Eduardo Martins       8.91   2009\n",
       "3      Ellie Sullivan       0.99   2009\n",
       "4          Emma Jones       8.91   2009"
      ]
     },
     "execution_count": 12,
     "metadata": {},
     "output_type": "execute_result"
    }
   ],
   "source": [
    "cus_agg.head()"
   ]
  },
  {
   "cell_type": "code",
   "execution_count": 13,
   "metadata": {},
   "outputs": [],
   "source": [
    "cus_agg1 = data.groupby(by='kota pengiriman',).agg('sum').reset_index()\n",
    "cus_agg2 = data.groupby(by='negara pengiriman',).agg('sum').reset_index()"
   ]
  },
  {
   "cell_type": "code",
   "execution_count": 15,
   "metadata": {},
   "outputs": [
    {
     "data": {
      "image/png": "[encoded data removed]",
      "text/plain": [
       "<Figure size 1440x1080 with 3 Axes>"
      ]
     },
     "metadata": {
      "needs_background": "light"
     },
     "output_type": "display_data"
    }
   ],
   "source": [
    "fig, ax = plt.subplots(nrows=3, figsize=(20,15))\n",
    "x1 = cus_agg['nama lengkap']\n",
    "x2 = cus_agg1['kota pengiriman']\n",
    "x3 = cus_agg2['negara pengiriman']\n",
    "y1 = cus_agg['pembelian']\n",
    "y2 = cus_agg1['pembelian']\n",
    "y3 = cus_agg2['pembelian']\n",
    "\n",
    "ax[0].bar(x1,y1,color=\"blue\")\n",
    "ax[0].set_title('Penjualan Bulan Februari-Juni 2009')\n",
    "ax[0].set_ylabel('Penjualan')\n",
    "ax[0].set_xticklabels(rotation=90, labels = x1)\n",
    "\n",
    "ax[1].bar(x2,y2,color=\"blue\")\n",
    "ax[1].set_ylabel('Penjualan')\n",
    "ax[1].set_xticklabels(rotation=90, labels = x2)\n",
    "\n",
    "ax[2].bar(x3,y3,color=\"blue\")\n",
    "ax[2].set_ylabel('Penjualan')\n",
    "ax[2].set_xticklabels(rotation=90, labels = x3)\n",
    "\n",
    "plt.subplots_adjust(hspace=1)"
   ]
  }
 ],
 "metadata": {
  "kernelspec": {
   "display_name": "Python 3",
   "language": "python",
   "name": "python3"
  },
  "language_info": {
   "codemirror_mode": {
    "name": "ipython",
    "version": 3
   },
   "file_extension": ".py",
   "mimetype": "text/x-python",
   "name": "python",
   "nbconvert_exporter": "python",
   "pygments_lexer": "ipython3",
   "version": "3.8.3"
  }
 },
 "nbformat": 4,
 "nbformat_minor": 4
}
